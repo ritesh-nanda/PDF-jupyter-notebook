{
 "cells": [],
 "metadata": {
  "kernelspec": {
   "display_name": "Python 3",
   "language": "python",
   "name": "python3"
  },
  "language_info": {
   "codemirror_mode": {
    "name": "ipython",
    "version": 3
   },
   "file_extension": ".py",
   "mimetype": "text/x-python",
   "name": "python",
   "nbconvert_exporter": "python",
   "pygments_lexer": "ipython3",
   "version": "3.7.6"
  },
  "pycharm": {
   "stem_cell": {
    "cell_type": "raw",
    "source": [
     "# Example Document\n",
     "### This is an example notebook to try out the \"Notebook as PDF\" extension. It contains a few plots from the excellent matplotlib gallery.\n",
     "\n",
     "### To try out the extension click \"File -> Download as -> PDF via HTML\". This will convert this notebook into a PDF. This extension has three new features compared to the official \"save as PDF\" extension:\n",
     "\n",
     "### it produces a PDF with the smallest number of page breaks, the original notebook is attached to the PDF; and this extension does not require LaTex. The created PDF will have as few pages as possible, in many cases only one. This is useful if you are exporting your notebook to a PDF for sharing with others who will view them on a screen.\n",
     "\n",
     "### To make it easier to reproduce the contents of the PDF at a later date the original notebook is attached to the PDF. Not all PDF viewers know how to deal with attachments. This mean you need to use Acrobat Reader or pdf.js to be able to get the attachment from the PDF. Preview for OSX does not know how to display/give you access to PDF attachments."
    ],
    "metadata": {
     "collapsed": false
    }
   }
  }
 },
 "nbformat": 4,
 "nbformat_minor": 4
}